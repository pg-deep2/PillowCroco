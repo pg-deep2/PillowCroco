{
 "cells": [
  {
   "cell_type": "code",
   "execution_count": null,
   "metadata": {
    "collapsed": true
   },
   "outputs": [],
   "source": [
    "import torch\n",
    "from torch.autograd import Variable\n",
    "import torch.nn.functional as f\n",
    "\n",
    "\n",
    "class Model(torch.nn.Module):\n",
    "\n",
    "    def __init__(self):\n",
    "        super(Model,self).__init__()\n",
    "        self.linear=torch.nn.Linear(1,1)\n",
    "        \n",
    "        \n",
    "    # 모델 설계할 때, Linear작업해준거를\n",
    "    # activation function에 통과시켜주는거임! ReLU를 쓰겠지 곧..\n",
    "    def forward(self,x):\n",
    "        y_pred=f.sigmoid(self.linear(x))\n",
    "        return y_pred\n",
    "    \n",
    "# Loss계산은 BCE로. Cross Entropy 해준다\n",
    "criterion = torch.nn.BCELoss(size_average=True)"
   ]
  }
 ],
 "metadata": {
  "kernelspec": {
   "display_name": "Python 3",
   "language": "python",
   "name": "python3"
  },
  "language_info": {
   "codemirror_mode": {
    "name": "ipython",
    "version": 3
   },
   "file_extension": ".py",
   "mimetype": "text/x-python",
   "name": "python",
   "nbconvert_exporter": "python",
   "pygments_lexer": "ipython3",
   "version": "3.6.3"
  }
 },
 "nbformat": 4,
 "nbformat_minor": 2
}
