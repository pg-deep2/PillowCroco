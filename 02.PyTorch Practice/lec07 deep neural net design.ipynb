{
 "cells": [
  {
   "cell_type": "code",
   "execution_count": null,
   "metadata": {
    "collapsed": true
   },
   "outputs": [],
   "source": [
    "import torch\n",
    "from torch.autograd import Variable\n",
    "\n",
    "\n",
    "class Model(torch.nn.Module):\n",
    "    \n",
    "    # Deep Network를 설정한다. 지금 같은 경우는 (Lin->Act)*3이다.\n",
    "    # linear를 생성자에서 모양을 잡아주고, forward하는 작업에서 l1->out1->l2->out2..\n",
    "    # 이런 식으로 하여 결과 값을 만든다. Loss의 criterion은 activation을 썼으므로 BCE가 된다.\n",
    "    def __init__(self):\n",
    "        super(Model, self).__init__()\n",
    "        self_l1 = torch.nn.Linear(8, 6)\n",
    "        self.l2 = torch.nn.Linear(6, 4)\n",
    "        self.l3 = torch.nn.Linear(4, 1)\n",
    "\n",
    "        self.ReLU = torch.nn.ReLU()\n",
    "\n",
    "    def forward(self, x):\n",
    "        out1 = self.ReLU(self.l1(x))\n",
    "        out2 = self.ReLU(self.l2(out1))\n",
    "        y_pred = self.ReLU(self.l3(out2))\n",
    "        return y_pred\n",
    "\n",
    "    \n",
    "criterion = torch.nn.BCELoss(size_average = True)\n"
   ]
  }
 ],
 "metadata": {
  "kernelspec": {
   "display_name": "Python 3",
   "language": "python",
   "name": "python3"
  },
  "language_info": {
   "codemirror_mode": {
    "name": "ipython",
    "version": 3
   },
   "file_extension": ".py",
   "mimetype": "text/x-python",
   "name": "python",
   "nbconvert_exporter": "python",
   "pygments_lexer": "ipython3",
   "version": "3.6.3"
  }
 },
 "nbformat": 4,
 "nbformat_minor": 2
}
