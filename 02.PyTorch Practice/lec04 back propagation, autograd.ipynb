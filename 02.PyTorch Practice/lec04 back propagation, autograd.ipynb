{
 "cells": [
  {
   "cell_type": "code",
   "execution_count": 18,
   "metadata": {},
   "outputs": [
    {
     "name": "stdout",
     "output_type": "stream",
     "text": [
      "predict(b.t) 4 tensor(4.)\n"
     ]
    }
   ],
   "source": [
    "import torch\n",
    "from torch.autograd import Variable\n",
    "\n",
    "x_data = [1.0, 2.0, 3.0]\n",
    "y_data = [2.0, 4.0, 6.0]\n",
    "\n",
    "w = Variable(torch.Tensor([1.0]), requires_grad=True)\n",
    "\n",
    "\n",
    "def forward(x):\n",
    "    return x * w\n",
    "\n",
    "\n",
    "def loss(x, y):\n",
    "    y_pred = forward(x)\n",
    "    return (y_pred - y) ** 2\n",
    "\n",
    "# w가 list로 되어있기 때문에, return값도 list임. \n",
    "# 우린 스칼라를 뽑아야하므로 return값의 [0]번째 성분을 추출함.\n",
    "print(\"predict(b.t)\", 4, forward(4).data[0])\n",
    "\n",
    "\n",
    "\n"
   ]
  },
  {
   "cell_type": "code",
   "execution_count": 20,
   "metadata": {},
   "outputs": [
    {
     "name": "stdout",
     "output_type": "stream",
     "text": [
      "\tgrad: 1.0 2.0 tensor(1.9512) tensor(1.00000e-02 *\n",
      "       -9.7568)\n",
      "\tgrad: 2.0 4.0 tensor(1.9522) tensor(-0.3825)\n",
      "\tgrad: 3.0 6.0 tensor(1.9560) tensor(-0.7917)\n",
      "progress: 0 tensor(1.00000e-02 *\n",
      "       1.7411)\n",
      "\tgrad: 1.0 2.0 tensor(1.9639) tensor(1.00000e-02 *\n",
      "       -7.2133)\n",
      "\tgrad: 2.0 4.0 tensor(1.9647) tensor(-0.2828)\n",
      "\tgrad: 3.0 6.0 tensor(1.9675) tensor(-0.5853)\n",
      "progress: 1 tensor(1.00000e-03 *\n",
      "       9.5165)\n",
      "\tgrad: 1.0 2.0 tensor(1.9733) tensor(1.00000e-02 *\n",
      "       -5.3329)\n",
      "\tgrad: 2.0 4.0 tensor(1.9739) tensor(-0.2090)\n",
      "\tgrad: 3.0 6.0 tensor(1.9760) tensor(-0.4327)\n",
      "progress: 2 tensor(1.00000e-03 *\n",
      "       5.2015)\n",
      "\tgrad: 1.0 2.0 tensor(1.9803) tensor(1.00000e-02 *\n",
      "       -3.9426)\n",
      "\tgrad: 2.0 4.0 tensor(1.9807) tensor(-0.1546)\n",
      "\tgrad: 3.0 6.0 tensor(1.9822) tensor(-0.3199)\n",
      "progress: 3 tensor(1.00000e-03 *\n",
      "       2.8430)\n",
      "\tgrad: 1.0 2.0 tensor(1.9854) tensor(1.00000e-02 *\n",
      "       -2.9148)\n",
      "\tgrad: 2.0 4.0 tensor(1.9857) tensor(-0.1143)\n",
      "\tgrad: 3.0 6.0 tensor(1.9869) tensor(-0.2365)\n",
      "progress: 4 tensor(1.00000e-03 *\n",
      "       1.5539)\n",
      "\tgrad: 1.0 2.0 tensor(1.9892) tensor(1.00000e-02 *\n",
      "       -2.1550)\n",
      "\tgrad: 2.0 4.0 tensor(1.9894) tensor(1.00000e-02 *\n",
      "       -8.4475)\n",
      "\tgrad: 3.0 6.0 tensor(1.9903) tensor(-0.1749)\n",
      "progress: 5 tensor(1.00000e-04 *\n",
      "       8.4936)\n",
      "\tgrad: 1.0 2.0 tensor(1.9920) tensor(1.00000e-02 *\n",
      "       -1.5932)\n",
      "\tgrad: 2.0 4.0 tensor(1.9922) tensor(1.00000e-02 *\n",
      "       -6.2453)\n",
      "\tgrad: 3.0 6.0 tensor(1.9928) tensor(-0.1293)\n",
      "progress: 6 tensor(1.00000e-04 *\n",
      "       4.6425)\n",
      "\tgrad: 1.0 2.0 tensor(1.9941) tensor(1.00000e-02 *\n",
      "       -1.1779)\n",
      "\tgrad: 2.0 4.0 tensor(1.9942) tensor(1.00000e-02 *\n",
      "       -4.6172)\n",
      "\tgrad: 3.0 6.0 tensor(1.9947) tensor(1.00000e-02 *\n",
      "       -9.5575)\n",
      "progress: 7 tensor(1.00000e-04 *\n",
      "       2.5374)\n",
      "\tgrad: 1.0 2.0 tensor(1.9956) tensor(1.00000e-03 *\n",
      "       -8.7082)\n",
      "\tgrad: 2.0 4.0 tensor(1.9957) tensor(1.00000e-02 *\n",
      "       -3.4136)\n",
      "\tgrad: 3.0 6.0 tensor(1.9961) tensor(1.00000e-02 *\n",
      "       -7.0662)\n",
      "progress: 8 tensor(1.00000e-04 *\n",
      "       1.3870)\n",
      "\tgrad: 1.0 2.0 tensor(1.9968) tensor(1.00000e-03 *\n",
      "       -6.4378)\n",
      "\tgrad: 2.0 4.0 tensor(1.9968) tensor(1.00000e-02 *\n",
      "       -2.5236)\n",
      "\tgrad: 3.0 6.0 tensor(1.9971) tensor(1.00000e-02 *\n",
      "       -5.2239)\n",
      "progress: 9 tensor(1.00000e-05 *\n",
      "       7.5804)\n",
      "predict (a.t) 4 tensor(7.9905)\n"
     ]
    }
   ],
   "source": [
    "for epoch in range(10):\n",
    "    for x_val, y_val in zip(x_data, y_data):\n",
    "        l = loss(x_val, y_val)\n",
    "        # backward가 back propagation과정을 한다는 뜻인가봄\n",
    "        # 여기 이후에 쓰이는, l 계산에 포함되는 애들의 grad는 l을 기준으로의 grad값.\n",
    "        # 그니까 dl/dw가 구해짐.\n",
    "        l.backward()\n",
    "        \n",
    "        #dl/dw=2x(xw-y)\n",
    "        print(\"\\tgrad:\", x_val, y_val,w.data[0], w.grad.data[0])\n",
    "        w.data = w.data - 0.01 * w.grad.data\n",
    "\n",
    "        #걍 으레 grad zero 해준다..\n",
    "        w.grad.data.zero_()\n",
    "\n",
    "    print(\"progress:\", epoch, l.data[0])\n",
    "\n",
    "print(\"predict (a.t)\", 4, forward(4).data[0])"
   ]
  },
  {
   "cell_type": "markdown",
   "metadata": {
    "collapsed": true
   },
   "source": [
    "### "
   ]
  }
 ],
 "metadata": {
  "kernelspec": {
   "display_name": "Python 3",
   "language": "python",
   "name": "python3"
  },
  "language_info": {
   "codemirror_mode": {
    "name": "ipython",
    "version": 3
   },
   "file_extension": ".py",
   "mimetype": "text/x-python",
   "name": "python",
   "nbconvert_exporter": "python",
   "pygments_lexer": "ipython3",
   "version": "3.6.3"
  }
 },
 "nbformat": 4,
 "nbformat_minor": 2
}
