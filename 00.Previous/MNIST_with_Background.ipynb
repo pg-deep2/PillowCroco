{
 "cells": [
  {
   "cell_type": "code",
   "execution_count": 1,
   "metadata": {},
   "outputs": [
    {
     "name": "stderr",
     "output_type": "stream",
     "text": [
      "C:\\ProgramData\\Anaconda3\\lib\\site-packages\\h5py\\__init__.py:36: FutureWarning: Conversion of the second argument of issubdtype from `float` to `np.floating` is deprecated. In future, it will be treated as `np.float64 == np.dtype(float).type`.\n",
      "  from ._conv import register_converters as _register_converters\n"
     ]
    },
    {
     "name": "stdout",
     "output_type": "stream",
     "text": [
      "(12000, 785)\n",
      "0.99609375 0.28627451\n",
      "0.99609375 0.14901961\n",
      "1.0 0.27058824\n",
      "0.99609375 0.0\n",
      "0.99609375 0.15294118\n",
      "0.99609375 0.0\n",
      "0.99609375 0.0\n",
      "0.99609375 0.12156863\n"
     ]
    }
   ],
   "source": [
    "import tensorflow as tf\n",
    "import random\n",
    "import numpy as np\n",
    "import matplotlib.pyplot as plt\n",
    "\n",
    "tf.set_random_seed(777)  # reproducibility\n",
    "\n",
    "# each pixel valus is float between 0 and 1\n",
    "# image size = 28x28 = 784, last column means the label that each image indicates\n",
    "mnist_bg=np.loadtxt('mnist_background_images\\\\mnist_background_images_train.amat')\n",
    "print(mnist_bg.shape)\n",
    "\n",
    "\n",
    "for i in range(8):\n",
    "    img = mnist_bg[i,:-1].reshape(28,28)\n",
    "    print(max(mnist_bg[i,:-1]), min(mnist_bg[i,:-1]))\n",
    "    plt.subplot(1,8,i+1), plt.imshow(img, cmap='gray')"
   ]
  },
  {
   "cell_type": "code",
   "execution_count": 2,
   "metadata": {},
   "outputs": [],
   "source": [
    "# hyper parameters\n",
    "learning_rate = 0.001\n",
    "training_epochs = 15\n",
    "training_size = 12000\n",
    "batch_size = 100\n",
    "\n",
    "# dropout (keep_prob) rate  0.7~0.5 on training, but should be 1 for testing\n",
    "keep_prob = tf.placeholder(tf.float32)\n",
    "\n",
    "# input place holders\n",
    "X = tf.placeholder(tf.float32, [None, 784])\n",
    "X_img = tf.reshape(X, [-1, 28, 28, 1])   # img 28x28x1 (black/white)\n",
    "Y = tf.placeholder(tf.int32, [None, 10])\n",
    "\n",
    "\n",
    "# L1 ImgIn shape=(?, 28, 28, 1)\n",
    "W1 = tf.Variable(tf.random_normal([3, 3, 1, 32], stddev=0.01))\n",
    "#    Conv     -> (?, 28, 28, 32)\n",
    "#    Pool     -> (?, 14, 14, 32)\n",
    "L1 = tf.nn.conv2d(X_img, W1, strides=[1, 1, 1, 1], padding='SAME')\n",
    "L1 = tf.nn.relu(L1)\n",
    "L1 = tf.nn.max_pool(L1, ksize=[1, 2, 2, 1],\n",
    "                    strides=[1, 2, 2, 1], padding='SAME')\n",
    "L1 = tf.nn.dropout(L1, keep_prob=keep_prob)\n",
    "\n",
    "# L2 ImgIn shape=(?, 14, 14, 32)\n",
    "W2 = tf.Variable(tf.random_normal([3, 3, 32, 64], stddev=0.01))\n",
    "#    Conv      ->(?, 14, 14, 64)\n",
    "#    Pool      ->(?, 7, 7, 64)\n",
    "L2 = tf.nn.conv2d(L1, W2, strides=[1, 1, 1, 1], padding='SAME')\n",
    "L2 = tf.nn.relu(L2)\n",
    "L2 = tf.nn.max_pool(L2, ksize=[1, 2, 2, 1],\n",
    "                    strides=[1, 2, 2, 1], padding='SAME')\n",
    "L2 = tf.nn.dropout(L2, keep_prob=keep_prob)\n",
    "\n",
    "# L3 ImgIn shape=(?, 7, 7, 64)\n",
    "W3 = tf.Variable(tf.random_normal([3, 3, 64, 128], stddev=0.01))\n",
    "#    Conv      ->(?, 7, 7, 128)\n",
    "#    Pool      ->(?, 4, 4, 128)\n",
    "#    Reshape   ->(?, 4 * 4 * 128) # Flatten them for FC\n",
    "L3 = tf.nn.conv2d(L2, W3, strides=[1, 1, 1, 1], padding='SAME')\n",
    "L3 = tf.nn.relu(L3)\n",
    "L3 = tf.nn.max_pool(L3, ksize=[1, 2, 2, 1], strides=[\n",
    "                    1, 2, 2, 1], padding='SAME')\n",
    "L3 = tf.nn.dropout(L3, keep_prob=keep_prob)\n",
    "L3_flat = tf.reshape(L3, [-1, 128 * 4 * 4])\n",
    "\n",
    "# L4 FC 4x4x128 inputs -> 625 outputs\n",
    "W4 = tf.get_variable(\"W4\", shape=[128 * 4 * 4, 625],\n",
    "                     initializer=tf.contrib.layers.xavier_initializer())\n",
    "b4 = tf.Variable(tf.random_normal([625]))\n",
    "L4 = tf.nn.relu(tf.matmul(L3_flat, W4) + b4)\n",
    "L4 = tf.nn.dropout(L4, keep_prob=keep_prob)\n",
    "\n",
    "# L5 Final FC 625 inputs -> 10 outputs\n",
    "W5 = tf.get_variable(\"W5\", shape=[625, 10],\n",
    "                     initializer=tf.contrib.layers.xavier_initializer())\n",
    "b5 = tf.Variable(tf.random_normal([10]))\n",
    "logits = tf.matmul(L4, W5) + b5\n",
    "\n",
    "# define cost/loss & optimizer\n",
    "cost = tf.reduce_mean(tf.nn.softmax_cross_entropy_with_logits_v2(\n",
    "    logits=logits, labels=Y))\n",
    "optimizer = tf.train.AdamOptimizer(learning_rate=learning_rate).minimize(cost)"
   ]
  },
  {
   "cell_type": "code",
   "execution_count": 3,
   "metadata": {},
   "outputs": [
    {
     "name": "stdout",
     "output_type": "stream",
     "text": [
      "Learning started. It takes sometime.\n",
      "Epoch: 0001 cost = 2.449423607\n",
      "Epoch: 0002 cost = 2.189833335\n",
      "Epoch: 0003 cost = 1.346764697\n",
      "Epoch: 0004 cost = 0.875539472\n",
      "Epoch: 0005 cost = 0.670407039\n",
      "Epoch: 0006 cost = 0.556357772\n",
      "Epoch: 0007 cost = 0.488274385\n",
      "Epoch: 0008 cost = 0.438748932\n",
      "Epoch: 0009 cost = 0.405321320\n",
      "Epoch: 0010 cost = 0.365467146\n",
      "Epoch: 0011 cost = 0.355118112\n",
      "Epoch: 0012 cost = 0.320193975\n",
      "Epoch: 0013 cost = 0.305199749\n",
      "Epoch: 0014 cost = 0.284030749\n",
      "Epoch: 0015 cost = 0.283780413\n",
      "Learning Finished!\n"
     ]
    }
   ],
   "source": [
    "# initialize\n",
    "sess = tf.Session()\n",
    "sess.run(tf.global_variables_initializer())\n",
    "\n",
    "# train my model\n",
    "print('Learning started. It takes sometime.')\n",
    "for epoch in range(training_epochs):\n",
    "    avg_cost = 0\n",
    "    total_batch = int(training_size / batch_size)\n",
    "    \n",
    "    np.random.shuffle(mnist_bg)\n",
    "\n",
    "    for i in range(total_batch):\n",
    "        x_batch = mnist_bg[i*batch_size:(i+1)*batch_size,:-1]\n",
    "        y_batch = np.zeros((batch_size,10))\n",
    "        y_batch[np.arange(batch_size), mnist_bg[i*batch_size:(i+1)*batch_size,-1].astype(int)] = 1\n",
    "        feed_dict={X: x_batch, Y: y_batch, keep_prob:0.7}\n",
    "        c, _ = sess.run([cost, optimizer], feed_dict=feed_dict)\n",
    "        avg_cost += c / total_batch\n",
    "\n",
    "    print('Epoch:', '%04d' % (epoch + 1), 'cost =', '{:.9f}'.format(avg_cost))\n",
    "print('Learning Finished!')"
   ]
  },
  {
   "cell_type": "code",
   "execution_count": 4,
   "metadata": {},
   "outputs": [
    {
     "name": "stdout",
     "output_type": "stream",
     "text": [
      "In Sample Accuracy: 0.9647500033179923\n"
     ]
    }
   ],
   "source": [
    "correct_prediction = tf.equal(tf.argmax(logits, 1), tf.argmax(Y, 1))\n",
    "local_accuracy = tf.reduce_mean(tf.cast(correct_prediction, tf.float32))\n",
    "\n",
    "\n",
    "\n",
    "#in sample test\n",
    "np.random.shuffle(mnist_bg)\n",
    "ins_accuracy = 0\n",
    "for i in range(total_batch):\n",
    "    x_batch = mnist_bg[i*batch_size:(i+1)*batch_size,:-1]\n",
    "    y_batch = np.zeros((batch_size,10))\n",
    "    y_batch[np.arange(batch_size),mnist_bg[i*batch_size:(i+1)*batch_size,-1].astype(int)] = 1\n",
    "    feed_dict={X:x_batch, Y:y_batch, keep_prob:1}\n",
    "    local = sess.run(local_accuracy, feed_dict=feed_dict)\n",
    "    ins_accuracy += local / total_batch\n",
    "    \n",
    "print('In Sample Accuracy:', ins_accuracy)"
   ]
  },
  {
   "cell_type": "code",
   "execution_count": 5,
   "metadata": {},
   "outputs": [
    {
     "name": "stdout",
     "output_type": "stream",
     "text": [
      "(50000, 785)\n"
     ]
    }
   ],
   "source": [
    "#out-of sample test\n",
    "\n",
    "mnist_bg_test=np.loadtxt('mnist_background_images\\\\mnist_background_images_test.amat')\n",
    "print(mnist_bg_test.shape)"
   ]
  },
  {
   "cell_type": "code",
   "execution_count": 6,
   "metadata": {},
   "outputs": [
    {
     "name": "stdout",
     "output_type": "stream",
     "text": [
      "Out-of Sample Accuracy: 0.9241200028657918\n"
     ]
    }
   ],
   "source": [
    "np.random.shuffle(mnist_bg_test)\n",
    "outs_accuracy = 0\n",
    "for i in range(500):\n",
    "    x_batch = mnist_bg_test[i*batch_size:(i+1)*batch_size,:-1]\n",
    "    y_batch = np.zeros((batch_size,10))\n",
    "    y_batch[np.arange(batch_size),mnist_bg_test[i*batch_size:(i+1)*batch_size,-1].astype(int)] = 1\n",
    "    feed_dict={X:x_batch,Y:y_batch, keep_prob:1}\n",
    "    local = sess.run(local_accuracy, feed_dict=feed_dict)\n",
    "    outs_accuracy += local / 500\n",
    "    \n",
    "print('Out-of Sample Accuracy:', outs_accuracy)"
   ]
  },
  {
   "cell_type": "code",
   "execution_count": 25,
   "metadata": {},
   "outputs": [
    {
     "name": "stdout",
     "output_type": "stream",
     "text": [
      "Label:  [3] \tPrediction:  [3] \tCorrectness:  O\n",
      "Label:  [2] \tPrediction:  [2] \tCorrectness:  O\n",
      "Label:  [1] \tPrediction:  [1] \tCorrectness:  O\n",
      "Label:  [7] \tPrediction:  [7] \tCorrectness:  O\n",
      "Label:  [9] \tPrediction:  [9] \tCorrectness:  O\n",
      "Label:  [0] \tPrediction:  [0] \tCorrectness:  O\n",
      "Label:  [3] \tPrediction:  [2] \tCorrectness:  X\n",
      "Label:  [3] \tPrediction:  [3] \tCorrectness:  O\n",
      "Label:  [9] \tPrediction:  [9] \tCorrectness:  O\n",
      "Label:  [8] \tPrediction:  [8] \tCorrectness:  O\n"
     ]
    },
    {
     "data": {
      "image/png": "[encoded data removed]",
      "text/plain": [
       "<matplotlib.figure.Figure at 0x88c053048>"
      ]
     },
     "metadata": {},
     "output_type": "display_data"
    }
   ],
   "source": [
    "# Get one and predict\n",
    "def correction(a):\n",
    "    if a:\n",
    "        return 'O'\n",
    "    else:\n",
    "        return 'X'\n",
    "    \n",
    "for i in range(10):\n",
    "    r = random.randint(0, 50000 - 1)\n",
    "    test_image = mnist_bg_test[r,:-1]\n",
    "    test_label = np.zeros((1,10))\n",
    "    test_label[0,mnist_bg_test[r,-1].astype(int)] = 1\n",
    "    \n",
    "    label, prediction = sess.run([tf.argmax(test_label, 1),tf.argmax(logits, 1)], feed_dict={X: test_image.reshape(-1,784), keep_prob:1})\n",
    "    print(\"Label: \",label,\n",
    "          \"\\tPrediction: \",prediction,\n",
    "          \"\\tCorrectness: \", correction(label==prediction))\n",
    "\n",
    "    plt.subplot(2,5,i+1), plt.imshow(test_image.reshape(28, 28), cmap='Greys')"
   ]
  },
  {
   "cell_type": "code",
   "execution_count": null,
   "metadata": {},
   "outputs": [],
   "source": []
  }
 ],
 "metadata": {
  "kernelspec": {
   "display_name": "Python 3",
   "language": "python",
   "name": "python3"
  },
  "language_info": {
   "codemirror_mode": {
    "name": "ipython",
    "version": 3
   },
   "file_extension": ".py",
   "mimetype": "text/x-python",
   "name": "python",
   "nbconvert_exporter": "python",
   "pygments_lexer": "ipython3",
   "version": "3.6.4"
  }
 },
 "nbformat": 4,
 "nbformat_minor": 2
}
