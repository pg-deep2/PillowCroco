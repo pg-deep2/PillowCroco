{
 "cells": [
  {
   "cell_type": "code",
   "execution_count": null,
   "metadata": {},
   "outputs": [],
   "source": [
    "#lab 12-3\n",
    "\n",
    "sample = \"all work and no play makes Jack a dull boy\"\n",
    "sample = sample.lower()\n",
    "print(set(sample))\n",
    "# sample(list)에 들어있는 character들로 이루어진 set을 만드는 과정. set()은 집합을 만드는 생성자\n",
    "# 예문에 대문자가 들어가고, 보통 검색엔진에서 대소문자 구분을 안하기에 lower처리 했음.\n",
    "\n",
    "idx2char = list(set(sample))\n",
    "idx2char.sort()\n",
    "print(idx2char)\n",
    "# idx2char는 set을 다시 list로 바꿔줌. 즉 idx2char는 sample에 들어간 문자들을 중복없이 다 세서 list로 가지고 있는 애임\n",
    "# 편의를 위해 sort해줌.\n",
    "\n",
    "char2idx = dict({char:index for index,char in enumerate(idx2char)})\n",
    "print(char2idx)\n",
    "# char2idx는 idx2char에 있는 애들을 dictionary 형태로 index와 매칭시킴(char가 key, index가 value)\n",
    "\n",
    "sample_idx = [char2idx[char] for char in sample]\n",
    "print(sample_idx)\n",
    "#각 문자의 인덱스에 맞추어, sample 안에 있는 애들을 char2idx의 key에 넣어서 나오는 value를 순서대로 나열하여 list를 만듬\n",
    "\n",
    "\n",
    "x = [sample_idx[:-1]]\n",
    "y = [sample_idx[1:]]\n",
    "print(x,y)"
   ]
  }
 ],
 "metadata": {
  "kernelspec": {
   "display_name": "Python 3",
   "language": "python",
   "name": "python3"
  },
  "language_info": {
   "codemirror_mode": {
    "name": "ipython",
    "version": 3
   },
   "file_extension": ".py",
   "mimetype": "text/x-python",
   "name": "python",
   "nbconvert_exporter": "python",
   "pygments_lexer": "ipython3",
   "version": "3.6.4"
  }
 },
 "nbformat": 4,
 "nbformat_minor": 2
}
