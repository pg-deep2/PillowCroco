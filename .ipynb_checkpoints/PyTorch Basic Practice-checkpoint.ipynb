{
 "cells": [
  {
   "cell_type": "code",
   "execution_count": 3,
   "metadata": {},
   "outputs": [],
   "source": [
    "import torch \n",
    "import torchvision\n",
    "import torch.nn as nn\n",
    "import numpy as np\n",
    "import torchvision.transforms as transforms"
   ]
  },
  {
   "cell_type": "code",
   "execution_count": 5,
   "metadata": {},
   "outputs": [
    {
     "name": "stdout",
     "output_type": "stream",
     "text": [
      "tensor(2) tensor(1) tensor(1)\n"
     ]
    }
   ],
   "source": [
    "x=torch.tensor(1,requires_grad=True)\n",
    "w=torch.tensor(2,requires_grad=True)\n",
    "b=torch.tensor(3,requires_grad=True)\n",
    "\n",
    "y=w*x+b\n",
    "y.backward()\n",
    "\n",
    "print(x.grad,w.grad,b.grad)"
   ]
  },
  {
   "cell_type": "code",
   "execution_count": 24,
   "metadata": {},
   "outputs": [
    {
     "name": "stdout",
     "output_type": "stream",
     "text": [
      "w: Parameter containing:\n",
      "tensor([[-0.5450,  0.4231, -0.4317],\n",
      "        [-0.3221, -0.0766,  0.5203]]) b: Parameter containing:\n",
      "tensor([-0.2467,  0.1148])\n",
      "loss: 0.9598641395568848\n"
     ]
    }
   ],
   "source": [
    "x=torch.randn(10,3)\n",
    "y=torch.randn(10,2)\n",
    "\n",
    "linear=nn.Linear(3,2)\n",
    "print('w:',linear.weight, 'b:', linear.bias)\n",
    "\n",
    "criterion=nn.MSELoss()\n",
    "optimizer=torch.optim.SGD(linear.parameters(),lr=0.0025)\n",
    "\n",
    "\n",
    "pred=linear(x)\n",
    "loss=criterion(pred,y)\n",
    "print('loss:',loss.item())\n",
    "\n",
    "#backward를 해주는 잉가뭐지?\n",
    "loss.backward()"
   ]
  },
  {
   "cell_type": "code",
   "execution_count": 25,
   "metadata": {},
   "outputs": [
    {
     "name": "stdout",
     "output_type": "stream",
     "text": [
      "dL/dw: tensor([[-0.0711,  0.0313, -0.3905],\n",
      "        [-0.0593, -0.0310,  0.6658]])\n",
      "dL/db: tensor([-0.0485,  0.2811])\n"
     ]
    }
   ],
   "source": [
    "print('dL/dw:',linear.weight.grad)\n",
    "print('dL/db:',linear.bias.grad)"
   ]
  },
  {
   "cell_type": "code",
   "execution_count": 32,
   "metadata": {},
   "outputs": [
    {
     "name": "stdout",
     "output_type": "stream",
     "text": [
      "loss: 2.295078992843628\n"
     ]
    }
   ],
   "source": [
    "optimizer.step()\n",
    "pred=linear(x)\n",
    "loss=criterion(pred,y)\n",
    "print('loss:',loss.item())"
   ]
  },
  {
   "cell_type": "code",
   "execution_count": 33,
   "metadata": {},
   "outputs": [
    {
     "name": "stdout",
     "output_type": "stream",
     "text": [
      "Downloading https://www.cs.toronto.edu/~kriz/cifar-10-python.tar.gz to ../../data/cifar-10-python.tar.gz\n",
      "torch.Size([3, 32, 32])\n",
      "6\n"
     ]
    }
   ],
   "source": [
    "train_dataset=torchvision.datasets.CIFAR10(root=\"../../data/\",train=True,transform=transforms.ToTensor(),download=True)\n",
    "\n",
    "#알아서 튜플형으로\n",
    "image,label=train_dataset[0]\n",
    "print(image.size())\n",
    "print(label)\n"
   ]
  },
  {
   "cell_type": "code",
   "execution_count": 34,
   "metadata": {},
   "outputs": [],
   "source": [
    "train_loader=torch.utils.data.DataLoader(dataset=train_dataset,batch_size=64,shuffle=True)\n",
    "data_iter=iter(train_loader)\n",
    "images,labels=data_iter.next()\n",
    "#batch만들기 개쉽다..진짜로.."
   ]
  },
  {
   "cell_type": "code",
   "execution_count": null,
   "metadata": {},
   "outputs": [],
   "source": []
  }
 ],
 "metadata": {
  "kernelspec": {
   "display_name": "Python 3",
   "language": "python",
   "name": "python3"
  },
  "language_info": {
   "codemirror_mode": {
    "name": "ipython",
    "version": 3
   },
   "file_extension": ".py",
   "mimetype": "text/x-python",
   "name": "python",
   "nbconvert_exporter": "python",
   "pygments_lexer": "ipython3",
   "version": "3.6.4"
  }
 },
 "nbformat": 4,
 "nbformat_minor": 2
}
