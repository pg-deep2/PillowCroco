{
 "cells": [
  {
   "cell_type": "code",
   "execution_count": 21,
   "metadata": {},
   "outputs": [],
   "source": [
    "import torch\n",
    "import torch.nn as nn\n",
    "import numpy as np\n",
    "import matplotlib.pyplot as plt\n",
    "\n",
    "\n",
    "# Hyper-parameters\n",
    "input_size = 1\n",
    "output_size = 1\n",
    "num_epochs = 60\n",
    "learning_rate = 0.001\n",
    "\n",
    "# Toy dataset\n",
    "x_train = np.array([[3.3], [4.4], [5.5], [6.71], [6.93], [4.168], \n",
    "                    [9.779], [6.182], [7.59], [2.167], [7.042], \n",
    "                    [10.791], [5.313], [7.997], [3.1]], dtype=np.float32)\n",
    "\n",
    "y_train = np.array([[1.7], [2.76], [2.09], [3.19], [1.694], [1.573], \n",
    "                    [3.366], [2.596], [2.53], [1.221], [2.827], \n",
    "                    [3.465], [1.65], [2.904], [1.3]], dtype=np.float32)\n"
   ]
  },
  {
   "cell_type": "code",
   "execution_count": 22,
   "metadata": {},
   "outputs": [
    {
     "name": "stdout",
     "output_type": "stream",
     "text": [
      "Epoch[5/60], Loss: 2.3126\n",
      "Epoch[10/60], Loss: 1.1714\n",
      "Epoch[15/60], Loss: 0.7087\n",
      "Epoch[20/60], Loss: 0.5210\n",
      "Epoch[25/60], Loss: 0.4445\n",
      "Epoch[30/60], Loss: 0.4132\n",
      "Epoch[35/60], Loss: 0.4002\n",
      "Epoch[40/60], Loss: 0.3946\n",
      "Epoch[45/60], Loss: 0.3920\n",
      "Epoch[50/60], Loss: 0.3906\n",
      "Epoch[55/60], Loss: 0.3897\n",
      "Epoch[60/60], Loss: 0.3890\n"
     ]
    },
    {
     "data": {
      "image/png": "[encoded data removed]",
      "text/plain": [
       "<matplotlib.figure.Figure at 0x1b4d065208>"
      ]
     },
     "metadata": {},
     "output_type": "display_data"
    }
   ],
   "source": [
    "model=nn.Linear(input_size,output_size)\n",
    "\n",
    "criterion=nn.MSELoss()\n",
    "optimizer=torch.optim.SGD(model.parameters(),lr=learning_rate)\n",
    "\n",
    "for epoch in range(int(num_epochs)):\n",
    "    inputs=torch.from_numpy(x_train)\n",
    "    targets=torch.from_numpy(y_train)\n",
    "    \n",
    "    outputs=model(inputs)\n",
    "    loss=criterion(outputs,targets)\n",
    "    \n",
    "    #요 세과정을 잘 모르겠으나 그냥 일단 쓴다고만 익혀두자\n",
    "    optimizer.zero_grad()\n",
    "    loss.backward()\n",
    "    optimizer.step()\n",
    "    \n",
    "    if (epoch+1)%5==0:\n",
    "        print('Epoch[{}/{}], Loss: {:.4f}'.format(epoch+1,num_epochs,loss.item()))\n",
    "        \n",
    "\n",
    "#모델에 torch tensor로 변환된 x를 넣어 훈련시킨 \n",
    "#리턴값(prediction)을 분리해내서 numpy 어레이로 다시 변환함.\n",
    "#detach는 requires_grad를 없애주는 역할을 하는듯.. 그냥 상수만 얘기하도록\n",
    "predicted = model(torch.from_numpy(x_train)).detach().numpy()\n",
    "plt.plot(x_train,y_train,'ro',label='Original data')\n",
    "plt.plot(x_train,predicted,label='Fitted Line')\n",
    "plt.legend()\n",
    "plt.show()"
   ]
  },
  {
   "cell_type": "code",
   "execution_count": 9,
   "metadata": {},
   "outputs": [],
   "source": [
    "torch.save(model.state_dict(),'model.ckpt')"
   ]
  },
  {
   "cell_type": "code",
   "execution_count": 20,
   "metadata": {},
   "outputs": [
    {
     "name": "stdout",
     "output_type": "stream",
     "text": [
      "tensor([[ 1.1800],\n",
      "        [ 1.5850],\n",
      "        [ 1.9899],\n",
      "        [ 2.4354],\n",
      "        [ 2.5164],\n",
      "        [ 1.4996],\n",
      "        [ 3.5652],\n",
      "        [ 2.2410],\n",
      "        [ 2.7593],\n",
      "        [ 0.7630],\n",
      "        [ 2.5576],\n",
      "        [ 3.9377],\n",
      "        [ 1.9211],\n",
      "        [ 2.9092],\n",
      "        [ 1.1064]])\n"
     ]
    }
   ],
   "source": [
    "xd = model(torch.from_numpy(x_train)).detach()\n",
    "print(xd)"
   ]
  },
  {
   "cell_type": "code",
   "execution_count": null,
   "metadata": {},
   "outputs": [],
   "source": []
  }
 ],
 "metadata": {
  "kernelspec": {
   "display_name": "Python 3",
   "language": "python",
   "name": "python3"
  },
  "language_info": {
   "codemirror_mode": {
    "name": "ipython",
    "version": 3
   },
   "file_extension": ".py",
   "mimetype": "text/x-python",
   "name": "python",
   "nbconvert_exporter": "python",
   "pygments_lexer": "ipython3",
   "version": "3.6.4"
  }
 },
 "nbformat": 4,
 "nbformat_minor": 2
}
