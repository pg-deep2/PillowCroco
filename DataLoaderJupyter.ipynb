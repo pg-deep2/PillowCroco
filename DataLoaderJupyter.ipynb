{
 "cells": [
  {
   "cell_type": "code",
   "execution_count": 9,
   "metadata": {},
   "outputs": [
    {
     "name": "stderr",
     "output_type": "stream",
     "text": [
      "C:\\ProgramData\\Anaconda3\\lib\\site-packages\\bs4\\__init__.py:181: UserWarning: No parser was explicitly specified, so I'm using the best available HTML parser for this system (\"lxml\"). This usually isn't a problem, but if you run this code on another system, or in a different virtual environment, it may use a different parser and behave differently.\n",
      "\n",
      "The code that caused this warning is on line 193 of the file C:\\ProgramData\\Anaconda3\\lib\\runpy.py. To get rid of this warning, change code that looks like this:\n",
      "\n",
      " BeautifulSoup(YOUR_MARKUP})\n",
      "\n",
      "to this:\n",
      "\n",
      " BeautifulSoup(YOUR_MARKUP, \"lxml\")\n",
      "\n",
      "  markup_type=markup_type))\n"
     ]
    },
    {
     "name": "stdout",
     "output_type": "stream",
     "text": [
      "https://i.ytimg.com/vi/YRFJlSjRm_U/hqdefault.jpg?sqp=-oaymwEXCPYBEIoBSFryq4qpAwkIARUAAIhCGAE=&rs=AOn4CLAlO-CcqjvFhkQJwRpkU5q-28HqZg\n",
      "https://i.ytimg.com/vi/cmUeoXlUYW4/hqdefault.jpg?sqp=-oaymwEXCPYBEIoBSFryq4qpAwkIARUAAIhCGAE=&rs=AOn4CLBvNuHOnJH9CL9F3FR4fmhV_mjNow\n",
      "https://i.ytimg.com/vi/yXMGBksw-B0/hqdefault.jpg?sqp=-oaymwEXCPYBEIoBSFryq4qpAwkIARUAAIhCGAE=&rs=AOn4CLDBlUc3HowJis1Ejpcj9xnRToxXHg\n",
      "https://i.ytimg.com/vi/847MP73AWgs/hqdefault.jpg?sqp=-oaymwEXCPYBEIoBSFryq4qpAwkIARUAAIhCGAE=&rs=AOn4CLC9n2Z5rOiePqv8KwzCt4YLs0qxwA\n",
      "https://i.ytimg.com/vi/3OUzgjCTAV4/hqdefault.jpg?sqp=-oaymwEXCPYBEIoBSFryq4qpAwkIARUAAIhCGAE=&rs=AOn4CLDMCzjAt6EfjUkdE2lXiQj4PjxTfQ\n",
      "https://i.ytimg.com/vi/TpkOmSXUGsE/hqdefault.jpg?sqp=-oaymwEXCPYBEIoBSFryq4qpAwkIARUAAIhCGAE=&rs=AOn4CLBObbyKBq2ekCLJ-F4nzPdeDjV79A\n",
      "https://i.ytimg.com/vi/ABZpj3vv-jo/hqdefault.jpg?sqp=-oaymwEXCPYBEIoBSFryq4qpAwkIARUAAIhCGAE=&rs=AOn4CLDRY7EgngRwDAmCS04GwWCUJlzxIg\n",
      "https://i.ytimg.com/vi/FUEmWdStLY0/hqdefault.jpg?sqp=-oaymwEXCPYBEIoBSFryq4qpAwkIARUAAIhCGAE=&rs=AOn4CLDTFVDGY8tavfDI80O7-R9kpOWvUQ\n",
      "https://i.ytimg.com/vi/48dlJ888PWE/hqdefault.jpg?sqp=-oaymwEXCPYBEIoBSFryq4qpAwkIARUAAIhCGAE=&rs=AOn4CLA_CqZaLE36dBdP7csg9aiQS3vCWw\n",
      "https://i.ytimg.com/vi/DrYUWAmBJlE/hqdefault.jpg?sqp=-oaymwEXCPYBEIoBSFryq4qpAwkIARUAAIhCGAE=&rs=AOn4CLCgTsc0q-uT-UJbonzPk4oBrgkerw\n",
      "https://i.ytimg.com/vi/JnSQU75pbEo/hqdefault.jpg?sqp=-oaymwEXCPYBEIoBSFryq4qpAwkIARUAAIhCGAE=&rs=AOn4CLCag3gj3gL3pB1jUmYkrwjQUk7EVQ\n",
      "https://i.ytimg.com/vi/3GoKgkSYcgc/hqdefault.jpg?sqp=-oaymwEXCPYBEIoBSFryq4qpAwkIARUAAIhCGAE=&rs=AOn4CLADLPBmagkwoa5AKvpAfVWoUvdw5Q\n",
      "https://i.ytimg.com/vi/ZWl0mNEov5k/hqdefault.jpg?sqp=-oaymwEXCPYBEIoBSFryq4qpAwkIARUAAIhCGAE=&rs=AOn4CLAKBauUQapRHXEb_RSaP4mBu12Zpw\n",
      "https://i.ytimg.com/vi/w8x85E7KbDs/hqdefault.jpg?sqp=-oaymwEXCPYBEIoBSFryq4qpAwkIARUAAIhCGAE=&rs=AOn4CLAAP3C6d_Hn0IJy_g1vVtY387yg7g\n",
      "https://i.ytimg.com/vi/jPk2xxzbxvo/hqdefault.jpg?sqp=-oaymwEXCPYBEIoBSFryq4qpAwkIARUAAIhCGAE=&rs=AOn4CLA6ZlZYbnRSv40iIUQG5fHD-wSZaw\n",
      "https://i.ytimg.com/vi/D9jut7oBv1U/hqdefault.jpg?sqp=-oaymwEXCPYBEIoBSFryq4qpAwkIARUAAIhCGAE=&rs=AOn4CLCjs5MRtxZSqPuLnQQGZZB6vMRrfQ\n",
      "https://i.ytimg.com/vi/IsUTr7GN5is/hqdefault.jpg?sqp=-oaymwEXCPYBEIoBSFryq4qpAwkIARUAAIhCGAE=&rs=AOn4CLCliC3PUqVLXL9REXeljMN7KjaNAA\n",
      "https://i.ytimg.com/vi/qPD3RAUdZKg/hqdefault.jpg?sqp=-oaymwEXCPYBEIoBSFryq4qpAwkIARUAAIhCGAE=&rs=AOn4CLCl01dTzXgGAhgwp-PMzdnQSBWm7Q\n",
      "https://i.ytimg.com/vi/fYE20jvpoxo/hqdefault.jpg?sqp=-oaymwEXCPYBEIoBSFryq4qpAwkIARUAAIhCGAE=&rs=AOn4CLAXpM-kdjlmojv9_ibOeLJpn-kmig\n",
      "https://i.ytimg.com/vi/_V9bRwNAYFY/hqdefault.jpg?sqp=-oaymwEXCPYBEIoBSFryq4qpAwkIARUAAIhCGAE=&rs=AOn4CLChuidGobmiqI10L_ErJF4UM0FtDA\n"
     ]
    }
   ],
   "source": [
    "from bs4 import BeautifulSoup\n",
    "import urllib\n",
    "\n",
    "url = 'https://www.youtube.com/results?search_query=boaLuvb'\n",
    "html_doc = urllib.request.urlopen(url)\n",
    "soup = BeautifulSoup(html_doc)\n",
    "links = soup.findAll('div', attrs={'class':'yt-lockup-dismissable'})\n",
    "\n",
    "for link in links:\n",
    "    img=link.find('div',attrs={'class':'video-thumb'}).find('img')\n",
    "    try:\n",
    "        if img['data-thumb'] != '':\n",
    "            print(img['data-thumb'])\n",
    "        else:\n",
    "            print(img['src'])\n",
    "    except:\n",
    "        print(img['src'])"
   ]
  },
  {
   "cell_type": "code",
   "execution_count": null,
   "metadata": {
    "collapsed": true
   },
   "outputs": [],
   "source": []
  }
 ],
 "metadata": {
  "kernelspec": {
   "display_name": "Python 3",
   "language": "python",
   "name": "python3"
  },
  "language_info": {
   "codemirror_mode": {
    "name": "ipython",
    "version": 3
   },
   "file_extension": ".py",
   "mimetype": "text/x-python",
   "name": "python",
   "nbconvert_exporter": "python",
   "pygments_lexer": "ipython3",
   "version": "3.6.3"
  }
 },
 "nbformat": 4,
 "nbformat_minor": 2
}
